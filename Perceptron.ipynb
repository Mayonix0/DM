{
 "cells": [
  {
   "cell_type": "code",
   "execution_count": 3,
   "metadata": {},
   "outputs": [
    {
     "name": "stdout",
     "output_type": "stream",
     "text": [
      "AND gate\n",
      "0 AND 0 = 0\n",
      "0 AND 1 = 0\n",
      "1 AND 0 = 0\n",
      "1 AND 1 = 1\n"
     ]
    }
   ],
   "source": [
    "import numpy as np\n",
    "\n",
    "def step_function(x):\n",
    "    return 1 if x >= 0 else 0\n",
    "\n",
    "def perceptron_AND(x1, x2):\n",
    "\n",
    "    weights = np.array([0.5, 0.5])\n",
    "    bias = -0.6  \n",
    "    \n",
    "    inputs = np.array([x1, x2])\n",
    "    \n",
    "    weighted_sum = np.dot(inputs, weights) + bias\n",
    "    \n",
    "    output = step_function(weighted_sum)\n",
    "    \n",
    "    return output\n",
    "\n",
    "print(\"AND gate\")\n",
    "print(\"0 AND 0 =\", perceptron_AND(0, 0))\n",
    "print(\"0 AND 1 =\", perceptron_AND(0, 1))\n",
    "print(\"1 AND 0 =\", perceptron_AND(1, 0))\n",
    "print(\"1 AND 1 =\", perceptron_AND(1, 1))\n"
   ]
  },
  {
   "cell_type": "code",
   "execution_count": 14,
   "metadata": {},
   "outputs": [
    {
     "name": "stdout",
     "output_type": "stream",
     "text": [
      "OR gate\n",
      "0 OR 0 = 0\n",
      "0 OR 1 = 1\n",
      "1 OR 0 = 1\n",
      "1 OR 1 = 1\n"
     ]
    }
   ],
   "source": [
    "import numpy as np\n",
    "\n",
    "def step_function(x):\n",
    "    return 1 if x >= 0 else 0\n",
    "\n",
    "def perceptron_OR(x1, x2):\n",
    "\n",
    "    weights = np.array([0.9, 0.1])  \n",
    "    bias = -0.1\n",
    "    \n",
    "    inputs = np.array([x1, x2])\n",
    "    \n",
    "    weighted_sum = np.dot(inputs, weights) + bias\n",
    "    \n",
    "    output = step_function(weighted_sum)\n",
    "    \n",
    "    return output\n",
    "\n",
    "print(\"OR gate\")\n",
    "print(\"0 OR 0 =\", perceptron_OR(0, 0))\n",
    "print(\"0 OR 1 =\", perceptron_OR(0, 1))\n",
    "print(\"1 OR 0 =\", perceptron_OR(1, 0))\n",
    "print(\"1 OR 1 =\", perceptron_OR(1, 1))\n"
   ]
  },
  {
   "cell_type": "code",
   "execution_count": 2,
   "metadata": {},
   "outputs": [
    {
     "name": "stdout",
     "output_type": "stream",
     "text": [
      "XOR gate\n",
      "[0, 0] XOR Output: 0\n",
      "[0, 1] XOR Output: 1\n",
      "[1, 0] XOR Output: 1\n",
      "[1, 1] XOR Output: 0\n"
     ]
    },
    {
     "name": "stderr",
     "output_type": "stream",
     "text": [
      "c:\\Users\\deadw\\AppData\\Local\\Programs\\Python\\Python311\\Lib\\site-packages\\sklearn\\neural_network\\_multilayer_perceptron.py:691: ConvergenceWarning: Stochastic Optimizer: Maximum iterations (1000) reached and the optimization hasn't converged yet.\n",
      "  warnings.warn(\n"
     ]
    }
   ],
   "source": [
    "from sklearn.neural_network import MLPClassifier\n",
    "from mlxtend.plotting import plot_sequential_feature_selection as plot_sfs\n",
    "import matplotlib.pyplot as plt\n",
    "\n",
    "\n",
    "X = [[0, 0], [0, 1], [1, 0], [1, 1]]\n",
    "y = [0, 1, 1, 0]\n",
    "\n",
    "mlp = MLPClassifier(hidden_layer_sizes=(5,), activation='relu', max_iter=1000)\n",
    "\n",
    "mlp.fit(X, y)\n",
    "\n",
    "print(\"XOR gate\")\n",
    "for i in range(len(X)):\n",
    "    prediction = mlp.predict([X[i]])\n",
    "    print(f\"{X[i]} XOR Output:\", prediction[0])\n",
    "\n",
    "\n",
    "# fig, ax = plt.subplots(figsize=(8, 6))\n",
    "# plot_sfs(mlp, ax=ax)\n",
    "# plt.show()\n"
   ]
  }
 ],
 "metadata": {
  "kernelspec": {
   "display_name": "Python 3",
   "language": "python",
   "name": "python3"
  },
  "language_info": {
   "codemirror_mode": {
    "name": "ipython",
    "version": 3
   },
   "file_extension": ".py",
   "mimetype": "text/x-python",
   "name": "python",
   "nbconvert_exporter": "python",
   "pygments_lexer": "ipython3",
   "version": "3.11.4"
  }
 },
 "nbformat": 4,
 "nbformat_minor": 2
}
