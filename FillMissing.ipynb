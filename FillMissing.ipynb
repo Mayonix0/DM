{
 "cells": [
  {
   "cell_type": "code",
   "execution_count": 1,
   "metadata": {},
   "outputs": [
    {
     "name": "stdout",
     "output_type": "stream",
     "text": [
      "Original Dataset:\n",
      "     A     B      C\n",
      "0  1.0  10.0  100.0\n",
      "1  2.0   NaN  200.0\n",
      "2  NaN  30.0  300.0\n",
      "3  4.0  40.0    NaN\n",
      "4  5.0  50.0  500.0\n",
      "\n",
      "Dataset after Mean Imputation:\n",
      "     A     B      C\n",
      "0  1.0  10.0  100.0\n",
      "1  2.0  32.5  200.0\n",
      "2  3.0  30.0  300.0\n",
      "3  4.0  40.0  275.0\n",
      "4  5.0  50.0  500.0\n",
      "\n",
      "Dataset after Median Imputation:\n",
      "     A     B      C\n",
      "0  1.0  10.0  100.0\n",
      "1  2.0  35.0  200.0\n",
      "2  3.0  30.0  300.0\n",
      "3  4.0  40.0  250.0\n",
      "4  5.0  50.0  500.0\n",
      "\n",
      "Dataset after Mode Imputation:\n",
      "     A     B      C\n",
      "0  1.0  10.0  100.0\n",
      "1  2.0  10.0  200.0\n",
      "2  1.0  30.0  300.0\n",
      "3  4.0  40.0  100.0\n",
      "4  5.0  50.0  500.0\n"
     ]
    }
   ],
   "source": [
    "import pandas as pd\n",
    "\n",
    "data = {\n",
    "    'A': [1, 2, None, 4, 5],\n",
    "    'B': [10, None, 30, 40, 50],\n",
    "    'C': [100, 200, 300, None, 500]\n",
    "}\n",
    "\n",
    "df = pd.DataFrame(data)\n",
    "\n",
    "print(\"Original Dataset:\")\n",
    "print(df)\n",
    "\n",
    "mean_filled = df.fillna(df.mean())\n",
    "median_filled = df.fillna(df.median())\n",
    "mode_filled = df.fillna(df.mode().iloc[0]) \n",
    "\n",
    "print(\"\\nDataset after Mean Imputation:\")\n",
    "print(mean_filled)\n",
    "\n",
    "print(\"\\nDataset after Median Imputation:\")\n",
    "print(median_filled)\n",
    "\n",
    "print(\"\\nDataset after Mode Imputation:\")\n",
    "print(mode_filled)\n"
   ]
  },
  {
   "cell_type": "code",
   "execution_count": 2,
   "metadata": {},
   "outputs": [
    {
     "name": "stdout",
     "output_type": "stream",
     "text": [
      "Original Dataset:\n",
      "     A     B      C\n",
      "0  1.0  10.0  100.0\n",
      "1  NaN   NaN  200.0\n",
      "2  3.0   NaN    NaN\n",
      "3  NaN  40.0  400.0\n",
      "4  5.0  50.0    NaN\n",
      "\n",
      "Dataset after Forward Fill:\n",
      "     A     B      C\n",
      "0  1.0  10.0  100.0\n",
      "1  1.0  10.0  200.0\n",
      "2  3.0  10.0  200.0\n",
      "3  3.0  40.0  400.0\n",
      "4  5.0  50.0  400.0\n",
      "\n",
      "Dataset after Backward Fill:\n",
      "     A     B      C\n",
      "0  1.0  10.0  100.0\n",
      "1  3.0  40.0  200.0\n",
      "2  3.0  40.0  400.0\n",
      "3  5.0  40.0  400.0\n",
      "4  5.0  50.0    NaN\n"
     ]
    }
   ],
   "source": [
    "import pandas as pd\n",
    "\n",
    "data = {\n",
    "    'A': [1, None, 3, None, 5],\n",
    "    'B': [10, None, None, 40, 50],\n",
    "    'C': [100, 200, None, 400, None]\n",
    "}\n",
    "\n",
    "df = pd.DataFrame(data)\n",
    "\n",
    "print(\"Original Dataset:\")\n",
    "print(df)\n",
    "\n",
    "forward_filled = df.ffill()\n",
    "backward_filled = df.bfill()\n",
    "\n",
    "print(\"\\nDataset after Forward Fill:\")\n",
    "print(forward_filled)\n",
    "\n",
    "print(\"\\nDataset after Backward Fill:\")\n",
    "print(backward_filled)\n"
   ]
  }
 ],
 "metadata": {
  "kernelspec": {
   "display_name": "Python 3",
   "language": "python",
   "name": "python3"
  },
  "language_info": {
   "codemirror_mode": {
    "name": "ipython",
    "version": 3
   },
   "file_extension": ".py",
   "mimetype": "text/x-python",
   "name": "python",
   "nbconvert_exporter": "python",
   "pygments_lexer": "ipython3",
   "version": "3.11.4"
  }
 },
 "nbformat": 4,
 "nbformat_minor": 2
}
